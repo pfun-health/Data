{
 "cells": [
  {
   "cell_type": "markdown",
   "id": "6b130187",
   "metadata": {},
   "source": [
    "# `load-data.ipynb`"
   ]
  },
  {
   "cell_type": "markdown",
   "id": "c2df23d6",
   "metadata": {},
   "source": [
    "## Load data from CSVs"
   ]
  },
  {
   "cell_type": "code",
   "execution_count": null,
   "id": "b1068b69",
   "metadata": {
    "notebookRunGroups": {
     "groupValue": "1"
    }
   },
   "outputs": [
    {
     "name": "stdout",
     "output_type": "stream",
     "text": [
      "Loading file: d:\\RobbieDocuments\\Data\\_raw_data\\sharpicManU-GlucoseData\\Glucose Data\\UoMGlucose2301.csv\n",
      "Frame name: UoMGlucose2301.csv\n",
      "\n",
      "Loading file: d:\\RobbieDocuments\\Data\\_raw_data\\sharpicManU-GlucoseData\\Glucose Data\\UoMGlucose2302.csv\n",
      "Frame name: UoMGlucose2302.csv\n",
      "\n",
      "Loading file: d:\\RobbieDocuments\\Data\\_raw_data\\sharpicManU-GlucoseData\\Glucose Data\\UoMGlucose2303.csv\n",
      "Frame name: UoMGlucose2303.csv\n",
      "\n",
      "Loading file: d:\\RobbieDocuments\\Data\\_raw_data\\sharpicManU-GlucoseData\\Glucose Data\\UoMGlucose2304.csv\n",
      "Frame name: UoMGlucose2304.csv\n",
      "\n",
      "Loading file: d:\\RobbieDocuments\\Data\\_raw_data\\sharpicManU-GlucoseData\\Glucose Data\\UoMGlucose2305.csv\n",
      "Frame name: UoMGlucose2305.csv\n",
      "\n",
      "Loading file: d:\\RobbieDocuments\\Data\\_raw_data\\sharpicManU-GlucoseData\\Glucose Data\\UoMGlucose2306.csv\n",
      "Frame name: UoMGlucose2306.csv\n",
      "\n",
      "Loading file: d:\\RobbieDocuments\\Data\\_raw_data\\sharpicManU-GlucoseData\\Glucose Data\\UoMGlucose2307.csv\n",
      "Frame name: UoMGlucose2307.csv\n",
      "\n",
      "Loading file: d:\\RobbieDocuments\\Data\\_raw_data\\sharpicManU-GlucoseData\\Glucose Data\\UoMGlucose2308.csv\n",
      "Frame name: UoMGlucose2308.csv\n",
      "\n",
      "Loading file: d:\\RobbieDocuments\\Data\\_raw_data\\sharpicManU-GlucoseData\\Glucose Data\\UoMGlucose2309.csv\n",
      "Frame name: UoMGlucose2309.csv\n",
      "\n",
      "Loading file: d:\\RobbieDocuments\\Data\\_raw_data\\sharpicManU-GlucoseData\\Glucose Data\\UoMGlucose2310.csv\n",
      "Frame name: UoMGlucose2310.csv\n",
      "\n",
      "Loading file: d:\\RobbieDocuments\\Data\\_raw_data\\sharpicManU-GlucoseData\\Glucose Data\\UoMGlucose2313.csv\n",
      "Frame name: UoMGlucose2313.csv\n",
      "\n",
      "Loading file: d:\\RobbieDocuments\\Data\\_raw_data\\sharpicManU-GlucoseData\\Glucose Data\\UoMGlucose2314.csv\n",
      "Frame name: UoMGlucose2314.csv\n",
      "\n",
      "Loading file: d:\\RobbieDocuments\\Data\\_raw_data\\sharpicManU-GlucoseData\\Glucose Data\\UoMGlucose2320.csv\n",
      "Frame name: UoMGlucose2320.csv\n",
      "\n",
      "Loading file: d:\\RobbieDocuments\\Data\\_raw_data\\sharpicManU-GlucoseData\\Glucose Data\\UoMGlucose2401.csv\n",
      "Frame name: UoMGlucose2401.csv\n",
      "\n",
      "Loading file: d:\\RobbieDocuments\\Data\\_raw_data\\sharpicManU-GlucoseData\\Glucose Data\\UoMGlucose2403.csv\n",
      "Frame name: UoMGlucose2403.csv\n",
      "\n",
      "Loading file: d:\\RobbieDocuments\\Data\\_raw_data\\sharpicManU-GlucoseData\\Glucose Data\\UoMGlucose2404.csv\n",
      "Frame name: UoMGlucose2404.csv\n",
      "\n",
      "Loading file: d:\\RobbieDocuments\\Data\\_raw_data\\sharpicManU-GlucoseData\\Glucose Data\\UoMGlucose2405.csv\n",
      "Frame name: UoMGlucose2405.csv\n",
      "\n"
     ]
    }
   ],
   "source": [
    "from pathlib import Path\n",
    "import pandas as pd\n",
    "\n",
    "# set the root directory where the CSV files are located\n",
    "cwd = Path().cwd()\n",
    "root_dir = cwd / '_raw_data' / 'sharpicManU-GlucoseData' / 'Glucose Data'\n",
    "\n",
    "# load data from csvs:\n",
    "frame_names = []\n",
    "data_frames = []\n",
    "for p in Path(root_dir).rglob('*.csv'):\n",
    "    frame_name = str(p.name)\n",
    "    print(\"Loading file:\", p)\n",
    "    print(\"Frame name:\", frame_name)\n",
    "    print()\n",
    "    df = pd.read_csv(p)\n",
    "    df.name = frame_name\n",
    "    df['frame_id'] = frame_name\n",
    "    data_frames.append(df)\n",
    "    frame_names.append(frame_name)\n",
    "\n",
    "df_all = pd.concat(data_frames, keys=frame_names, ignore_index=True)"
   ]
  },
  {
   "cell_type": "markdown",
   "id": "2aa31ad1",
   "metadata": {},
   "source": [
    "### Show full dataset"
   ]
  },
  {
   "cell_type": "code",
   "execution_count": 16,
   "id": "29661992",
   "metadata": {},
   "outputs": [
    {
     "data": {
      "application/vnd.microsoft.datawrangler.viewer.v0+json": {
       "columns": [
        {
         "name": "index",
         "rawType": "int64",
         "type": "integer"
        },
        {
         "name": "bg_ts",
         "rawType": "object",
         "type": "string"
        },
        {
         "name": "value",
         "rawType": "float64",
         "type": "float"
        },
        {
         "name": "frame_id",
         "rawType": "object",
         "type": "string"
        }
       ],
       "ref": "4cae5bc2-31d4-4ddc-8091-2da5b64d95b7",
       "rows": [
        [
         "0",
         "01/10/2023 00:04",
         "7.5",
         "UoMGlucose2301.csv"
        ],
        [
         "1",
         "01/10/2023 00:09",
         "8.0",
         "UoMGlucose2301.csv"
        ],
        [
         "2",
         "01/10/2023 00:14",
         "8.6",
         "UoMGlucose2301.csv"
        ],
        [
         "3",
         "01/10/2023 00:19",
         "9.2",
         "UoMGlucose2301.csv"
        ],
        [
         "4",
         "01/10/2023 00:24",
         "9.7",
         "UoMGlucose2301.csv"
        ],
        [
         "5",
         "01/10/2023 00:29",
         "10.1",
         "UoMGlucose2301.csv"
        ],
        [
         "6",
         "01/10/2023 00:34",
         "10.6",
         "UoMGlucose2301.csv"
        ],
        [
         "7",
         "01/10/2023 00:39",
         "11.1",
         "UoMGlucose2301.csv"
        ],
        [
         "8",
         "01/10/2023 00:44",
         "11.9",
         "UoMGlucose2301.csv"
        ],
        [
         "9",
         "01/10/2023 00:49",
         "13.4",
         "UoMGlucose2301.csv"
        ],
        [
         "10",
         "01/10/2023 00:54",
         "14.2",
         "UoMGlucose2301.csv"
        ],
        [
         "11",
         "01/10/2023 00:59",
         "14.5",
         "UoMGlucose2301.csv"
        ],
        [
         "12",
         "01/10/2023 01:04",
         "14.8",
         "UoMGlucose2301.csv"
        ],
        [
         "13",
         "01/10/2023 01:09",
         "14.5",
         "UoMGlucose2301.csv"
        ],
        [
         "14",
         "01/10/2023 01:14",
         "14.5",
         "UoMGlucose2301.csv"
        ],
        [
         "15",
         "01/10/2023 01:19",
         "14.4",
         "UoMGlucose2301.csv"
        ],
        [
         "16",
         "01/10/2023 01:24",
         "14.4",
         "UoMGlucose2301.csv"
        ],
        [
         "17",
         "01/10/2023 01:29",
         "14.3",
         "UoMGlucose2301.csv"
        ],
        [
         "18",
         "01/10/2023 01:34",
         "14.6",
         "UoMGlucose2301.csv"
        ],
        [
         "19",
         "01/10/2023 01:39",
         "15.0",
         "UoMGlucose2301.csv"
        ],
        [
         "20",
         "01/10/2023 01:44",
         "15.4",
         "UoMGlucose2301.csv"
        ],
        [
         "21",
         "01/10/2023 01:49",
         "15.8",
         "UoMGlucose2301.csv"
        ],
        [
         "22",
         "01/10/2023 01:54",
         "15.7",
         "UoMGlucose2301.csv"
        ],
        [
         "23",
         "01/10/2023 01:59",
         "15.9",
         "UoMGlucose2301.csv"
        ],
        [
         "24",
         "01/10/2023 02:04",
         "16.3",
         "UoMGlucose2301.csv"
        ],
        [
         "25",
         "01/10/2023 02:09",
         "16.9",
         "UoMGlucose2301.csv"
        ],
        [
         "26",
         "01/10/2023 02:14",
         "17.1",
         "UoMGlucose2301.csv"
        ],
        [
         "27",
         "01/10/2023 02:19",
         "17.5",
         "UoMGlucose2301.csv"
        ],
        [
         "28",
         "01/10/2023 02:24",
         "17.9",
         "UoMGlucose2301.csv"
        ],
        [
         "29",
         "01/10/2023 02:29",
         "18.5",
         "UoMGlucose2301.csv"
        ],
        [
         "30",
         "01/10/2023 02:34",
         "18.0",
         "UoMGlucose2301.csv"
        ],
        [
         "31",
         "01/10/2023 02:39",
         "17.5",
         "UoMGlucose2301.csv"
        ],
        [
         "32",
         "01/10/2023 02:44",
         "17.7",
         "UoMGlucose2301.csv"
        ],
        [
         "33",
         "01/10/2023 02:49",
         "18.8",
         "UoMGlucose2301.csv"
        ],
        [
         "34",
         "01/10/2023 02:54",
         "19.7",
         "UoMGlucose2301.csv"
        ],
        [
         "35",
         "01/10/2023 02:59",
         "20.0",
         "UoMGlucose2301.csv"
        ],
        [
         "36",
         "01/10/2023 03:04",
         "20.1",
         "UoMGlucose2301.csv"
        ],
        [
         "37",
         "01/10/2023 03:09",
         "20.6",
         "UoMGlucose2301.csv"
        ],
        [
         "38",
         "01/10/2023 03:14",
         "21.0",
         "UoMGlucose2301.csv"
        ],
        [
         "39",
         "01/10/2023 03:19",
         "20.9",
         "UoMGlucose2301.csv"
        ],
        [
         "40",
         "01/10/2023 03:24",
         "20.7",
         "UoMGlucose2301.csv"
        ],
        [
         "41",
         "01/10/2023 03:29",
         "20.4",
         "UoMGlucose2301.csv"
        ],
        [
         "42",
         "01/10/2023 03:34",
         "20.6",
         "UoMGlucose2301.csv"
        ],
        [
         "43",
         "01/10/2023 03:39",
         "20.6",
         "UoMGlucose2301.csv"
        ],
        [
         "44",
         "01/10/2023 03:44",
         "20.4",
         "UoMGlucose2301.csv"
        ],
        [
         "45",
         "01/10/2023 03:49",
         "20.6",
         "UoMGlucose2301.csv"
        ],
        [
         "46",
         "01/10/2023 03:54",
         "20.4",
         "UoMGlucose2301.csv"
        ],
        [
         "47",
         "01/10/2023 03:59",
         "20.0",
         "UoMGlucose2301.csv"
        ],
        [
         "48",
         "01/10/2023 04:04",
         "19.8",
         "UoMGlucose2301.csv"
        ],
        [
         "49",
         "01/10/2023 04:09",
         "19.7",
         "UoMGlucose2301.csv"
        ]
       ],
       "shape": {
        "columns": 3,
        "rows": 356146
       }
      },
      "text/html": [
       "<div>\n",
       "<style scoped>\n",
       "    .dataframe tbody tr th:only-of-type {\n",
       "        vertical-align: middle;\n",
       "    }\n",
       "\n",
       "    .dataframe tbody tr th {\n",
       "        vertical-align: top;\n",
       "    }\n",
       "\n",
       "    .dataframe thead th {\n",
       "        text-align: right;\n",
       "    }\n",
       "</style>\n",
       "<table border=\"1\" class=\"dataframe\">\n",
       "  <thead>\n",
       "    <tr style=\"text-align: right;\">\n",
       "      <th></th>\n",
       "      <th>bg_ts</th>\n",
       "      <th>value</th>\n",
       "      <th>frame_id</th>\n",
       "    </tr>\n",
       "  </thead>\n",
       "  <tbody>\n",
       "    <tr>\n",
       "      <th>0</th>\n",
       "      <td>01/10/2023 00:04</td>\n",
       "      <td>7.5</td>\n",
       "      <td>UoMGlucose2301.csv</td>\n",
       "    </tr>\n",
       "    <tr>\n",
       "      <th>1</th>\n",
       "      <td>01/10/2023 00:09</td>\n",
       "      <td>8.0</td>\n",
       "      <td>UoMGlucose2301.csv</td>\n",
       "    </tr>\n",
       "    <tr>\n",
       "      <th>2</th>\n",
       "      <td>01/10/2023 00:14</td>\n",
       "      <td>8.6</td>\n",
       "      <td>UoMGlucose2301.csv</td>\n",
       "    </tr>\n",
       "    <tr>\n",
       "      <th>3</th>\n",
       "      <td>01/10/2023 00:19</td>\n",
       "      <td>9.2</td>\n",
       "      <td>UoMGlucose2301.csv</td>\n",
       "    </tr>\n",
       "    <tr>\n",
       "      <th>4</th>\n",
       "      <td>01/10/2023 00:24</td>\n",
       "      <td>9.7</td>\n",
       "      <td>UoMGlucose2301.csv</td>\n",
       "    </tr>\n",
       "    <tr>\n",
       "      <th>...</th>\n",
       "      <td>...</td>\n",
       "      <td>...</td>\n",
       "      <td>...</td>\n",
       "    </tr>\n",
       "    <tr>\n",
       "      <th>356141</th>\n",
       "      <td>03/09/2024 15:38</td>\n",
       "      <td>13.1</td>\n",
       "      <td>UoMGlucose2405.csv</td>\n",
       "    </tr>\n",
       "    <tr>\n",
       "      <th>356142</th>\n",
       "      <td>03/09/2024 15:45</td>\n",
       "      <td>13.4</td>\n",
       "      <td>UoMGlucose2405.csv</td>\n",
       "    </tr>\n",
       "    <tr>\n",
       "      <th>356143</th>\n",
       "      <td>03/09/2024 15:46</td>\n",
       "      <td>13.4</td>\n",
       "      <td>UoMGlucose2405.csv</td>\n",
       "    </tr>\n",
       "    <tr>\n",
       "      <th>356144</th>\n",
       "      <td>03/09/2024 15:47</td>\n",
       "      <td>13.3</td>\n",
       "      <td>UoMGlucose2405.csv</td>\n",
       "    </tr>\n",
       "    <tr>\n",
       "      <th>356145</th>\n",
       "      <td>03/09/2024 16:10</td>\n",
       "      <td>13.5</td>\n",
       "      <td>UoMGlucose2405.csv</td>\n",
       "    </tr>\n",
       "  </tbody>\n",
       "</table>\n",
       "<p>356146 rows × 3 columns</p>\n",
       "</div>"
      ],
      "text/plain": [
       "                   bg_ts  value            frame_id\n",
       "0       01/10/2023 00:04    7.5  UoMGlucose2301.csv\n",
       "1       01/10/2023 00:09    8.0  UoMGlucose2301.csv\n",
       "2       01/10/2023 00:14    8.6  UoMGlucose2301.csv\n",
       "3       01/10/2023 00:19    9.2  UoMGlucose2301.csv\n",
       "4       01/10/2023 00:24    9.7  UoMGlucose2301.csv\n",
       "...                  ...    ...                 ...\n",
       "356141  03/09/2024 15:38   13.1  UoMGlucose2405.csv\n",
       "356142  03/09/2024 15:45   13.4  UoMGlucose2405.csv\n",
       "356143  03/09/2024 15:46   13.4  UoMGlucose2405.csv\n",
       "356144  03/09/2024 15:47   13.3  UoMGlucose2405.csv\n",
       "356145  03/09/2024 16:10   13.5  UoMGlucose2405.csv\n",
       "\n",
       "[356146 rows x 3 columns]"
      ]
     },
     "execution_count": 16,
     "metadata": {},
     "output_type": "execute_result"
    }
   ],
   "source": [
    "df_all"
   ]
  },
  {
   "cell_type": "markdown",
   "id": "48e03309",
   "metadata": {},
   "source": [
    "## Export to parquet"
   ]
  },
  {
   "cell_type": "code",
   "execution_count": null,
   "id": "330a254e",
   "metadata": {},
   "outputs": [],
   "source": [
    "df_all.to_parquet()"
   ]
  }
 ],
 "metadata": {
  "kernelspec": {
   "display_name": "data",
   "language": "python",
   "name": "python3"
  },
  "language_info": {
   "codemirror_mode": {
    "name": "ipython",
    "version": 3
   },
   "file_extension": ".py",
   "mimetype": "text/x-python",
   "name": "python",
   "nbconvert_exporter": "python",
   "pygments_lexer": "ipython3",
   "version": "3.13.5"
  }
 },
 "nbformat": 4,
 "nbformat_minor": 5
}
