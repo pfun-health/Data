{
 "cells": [
  {
   "cell_type": "markdown",
   "id": "6b130187",
   "metadata": {},
   "source": [
    "# `load-data.ipynb`"
   ]
  },
  {
   "cell_type": "markdown",
   "id": "c2df23d6",
   "metadata": {},
   "source": [
    "## Load data from CSVs"
   ]
  },
  {
   "cell_type": "code",
   "execution_count": 2,
   "id": "b1068b69",
   "metadata": {
    "notebookRunGroups": {
     "groupValue": "1"
    }
   },
   "outputs": [],
   "source": [
    "from pathlib import Path\n",
    "import duckdb\n",
    "\n",
    "# set the root directory where the CSV files are located\n",
    "cwd = Path().cwd()\n",
    "root_dir = cwd / '_raw_data' / 'sharpicManU'\n",
    "\n",
    "raw_data_dir = root_dir / 'Glucose Data'\n",
    "\n",
    "# load data from csvs:\n",
    "csv_paths = str(raw_data_dir / '*.csv')\n",
    "df_all = duckdb.from_csv_auto(csv_paths, filename=True)"
   ]
  },
  {
   "cell_type": "markdown",
   "id": "2aa31ad1",
   "metadata": {},
   "source": [
    "### Show full dataset"
   ]
  },
  {
   "cell_type": "code",
   "execution_count": 3,
   "id": "29661992",
   "metadata": {},
   "outputs": [
    {
     "data": {
      "text/plain": [
       "┌──────────────────┬────────┬───────────────────────────────────────────────────────────────────────────────┐\n",
       "│      bg_ts       │ value  │                                   filename                                    │\n",
       "│     varchar      │ double │                                    varchar                                    │\n",
       "├──────────────────┼────────┼───────────────────────────────────────────────────────────────────────────────┤\n",
       "│ 01/10/2023 00:04 │    7.5 │ d:\\RobbieDocuments\\Data\\_raw_data\\sharpicManU\\Glucose Data\\UoMGlucose2301.csv │\n",
       "│ 01/10/2023 00:09 │    8.0 │ d:\\RobbieDocuments\\Data\\_raw_data\\sharpicManU\\Glucose Data\\UoMGlucose2301.csv │\n",
       "│ 01/10/2023 00:14 │    8.6 │ d:\\RobbieDocuments\\Data\\_raw_data\\sharpicManU\\Glucose Data\\UoMGlucose2301.csv │\n",
       "│ 01/10/2023 00:19 │    9.2 │ d:\\RobbieDocuments\\Data\\_raw_data\\sharpicManU\\Glucose Data\\UoMGlucose2301.csv │\n",
       "│ 01/10/2023 00:24 │    9.7 │ d:\\RobbieDocuments\\Data\\_raw_data\\sharpicManU\\Glucose Data\\UoMGlucose2301.csv │\n",
       "│ 01/10/2023 00:29 │   10.1 │ d:\\RobbieDocuments\\Data\\_raw_data\\sharpicManU\\Glucose Data\\UoMGlucose2301.csv │\n",
       "│ 01/10/2023 00:34 │   10.6 │ d:\\RobbieDocuments\\Data\\_raw_data\\sharpicManU\\Glucose Data\\UoMGlucose2301.csv │\n",
       "│ 01/10/2023 00:39 │   11.1 │ d:\\RobbieDocuments\\Data\\_raw_data\\sharpicManU\\Glucose Data\\UoMGlucose2301.csv │\n",
       "│ 01/10/2023 00:44 │   11.9 │ d:\\RobbieDocuments\\Data\\_raw_data\\sharpicManU\\Glucose Data\\UoMGlucose2301.csv │\n",
       "│ 01/10/2023 00:49 │   13.4 │ d:\\RobbieDocuments\\Data\\_raw_data\\sharpicManU\\Glucose Data\\UoMGlucose2301.csv │\n",
       "│        ·         │     ·  │                                       ·                                       │\n",
       "│        ·         │     ·  │                                       ·                                       │\n",
       "│        ·         │     ·  │                                       ·                                       │\n",
       "│ 05/11/2023 01:09 │    4.2 │ d:\\RobbieDocuments\\Data\\_raw_data\\sharpicManU\\Glucose Data\\UoMGlucose2301.csv │\n",
       "│ 05/11/2023 01:14 │    4.4 │ d:\\RobbieDocuments\\Data\\_raw_data\\sharpicManU\\Glucose Data\\UoMGlucose2301.csv │\n",
       "│ 05/11/2023 01:19 │    4.6 │ d:\\RobbieDocuments\\Data\\_raw_data\\sharpicManU\\Glucose Data\\UoMGlucose2301.csv │\n",
       "│ 05/11/2023 01:24 │    4.9 │ d:\\RobbieDocuments\\Data\\_raw_data\\sharpicManU\\Glucose Data\\UoMGlucose2301.csv │\n",
       "│ 05/11/2023 01:29 │    5.1 │ d:\\RobbieDocuments\\Data\\_raw_data\\sharpicManU\\Glucose Data\\UoMGlucose2301.csv │\n",
       "│ 05/11/2023 01:34 │    5.2 │ d:\\RobbieDocuments\\Data\\_raw_data\\sharpicManU\\Glucose Data\\UoMGlucose2301.csv │\n",
       "│ 05/11/2023 01:39 │    5.5 │ d:\\RobbieDocuments\\Data\\_raw_data\\sharpicManU\\Glucose Data\\UoMGlucose2301.csv │\n",
       "│ 05/11/2023 01:44 │    5.7 │ d:\\RobbieDocuments\\Data\\_raw_data\\sharpicManU\\Glucose Data\\UoMGlucose2301.csv │\n",
       "│ 05/11/2023 01:49 │    6.0 │ d:\\RobbieDocuments\\Data\\_raw_data\\sharpicManU\\Glucose Data\\UoMGlucose2301.csv │\n",
       "│ 05/11/2023 01:54 │    6.3 │ d:\\RobbieDocuments\\Data\\_raw_data\\sharpicManU\\Glucose Data\\UoMGlucose2301.csv │\n",
       "├──────────────────┴────────┴───────────────────────────────────────────────────────────────────────────────┤\n",
       "│ ? rows (>9999 rows, 20 shown)                                                                   3 columns │\n",
       "└───────────────────────────────────────────────────────────────────────────────────────────────────────────┘"
      ]
     },
     "execution_count": 3,
     "metadata": {},
     "output_type": "execute_result"
    }
   ],
   "source": [
    "df_all"
   ]
  },
  {
   "cell_type": "code",
   "execution_count": 8,
   "id": "7260ce7f",
   "metadata": {},
   "outputs": [
    {
     "data": {
      "text/plain": [
       "┌─────────┬──────────────────┬───────────────────┐\n",
       "│  aggr   │      bg_ts       │       value       │\n",
       "│ varchar │     varchar      │      double       │\n",
       "├─────────┼──────────────────┼───────────────────┤\n",
       "│ count   │ 356146           │          356146.0 │\n",
       "│ mean    │ NULL             │ 8.190111663007146 │\n",
       "│ stddev  │ NULL             │ 3.155983737018771 │\n",
       "│ min     │ 01/01/2024 00:00 │               0.1 │\n",
       "│ max     │ 31/12/2023 23:59 │              27.8 │\n",
       "│ median  │ NULL             │               7.5 │\n",
       "└─────────┴──────────────────┴───────────────────┘"
      ]
     },
     "execution_count": 8,
     "metadata": {},
     "output_type": "execute_result"
    }
   ],
   "source": [
    "df_view = df_all.create_view('glucose_data')\n",
    "df_view.describe()"
   ]
  },
  {
   "cell_type": "code",
   "execution_count": 11,
   "id": "08472bd6",
   "metadata": {},
   "outputs": [
    {
     "data": {
      "text/plain": [
       "┌──────────────────┬────────┬───────────────────────────────────────────────────────────────────────────────┐\n",
       "│      bg_ts       │ value  │                                   filename                                    │\n",
       "│     varchar      │ double │                                    varchar                                    │\n",
       "├──────────────────┼────────┼───────────────────────────────────────────────────────────────────────────────┤\n",
       "│ 01/10/2023 00:04 │    7.5 │ d:\\RobbieDocuments\\Data\\_raw_data\\sharpicManU\\Glucose Data\\UoMGlucose2301.csv │\n",
       "│ 01/10/2023 00:09 │    8.0 │ d:\\RobbieDocuments\\Data\\_raw_data\\sharpicManU\\Glucose Data\\UoMGlucose2301.csv │\n",
       "│ 01/10/2023 00:14 │    8.6 │ d:\\RobbieDocuments\\Data\\_raw_data\\sharpicManU\\Glucose Data\\UoMGlucose2301.csv │\n",
       "│ 01/10/2023 00:19 │    9.2 │ d:\\RobbieDocuments\\Data\\_raw_data\\sharpicManU\\Glucose Data\\UoMGlucose2301.csv │\n",
       "│ 01/10/2023 00:24 │    9.7 │ d:\\RobbieDocuments\\Data\\_raw_data\\sharpicManU\\Glucose Data\\UoMGlucose2301.csv │\n",
       "│ 01/10/2023 00:29 │   10.1 │ d:\\RobbieDocuments\\Data\\_raw_data\\sharpicManU\\Glucose Data\\UoMGlucose2301.csv │\n",
       "│ 01/10/2023 00:34 │   10.6 │ d:\\RobbieDocuments\\Data\\_raw_data\\sharpicManU\\Glucose Data\\UoMGlucose2301.csv │\n",
       "│ 01/10/2023 00:39 │   11.1 │ d:\\RobbieDocuments\\Data\\_raw_data\\sharpicManU\\Glucose Data\\UoMGlucose2301.csv │\n",
       "│ 01/10/2023 00:44 │   11.9 │ d:\\RobbieDocuments\\Data\\_raw_data\\sharpicManU\\Glucose Data\\UoMGlucose2301.csv │\n",
       "│ 01/10/2023 00:49 │   13.4 │ d:\\RobbieDocuments\\Data\\_raw_data\\sharpicManU\\Glucose Data\\UoMGlucose2301.csv │\n",
       "│        ·         │     ·  │                                       ·                                       │\n",
       "│        ·         │     ·  │                                       ·                                       │\n",
       "│        ·         │     ·  │                                       ·                                       │\n",
       "│ 05/11/2023 01:09 │    4.2 │ d:\\RobbieDocuments\\Data\\_raw_data\\sharpicManU\\Glucose Data\\UoMGlucose2301.csv │\n",
       "│ 05/11/2023 01:14 │    4.4 │ d:\\RobbieDocuments\\Data\\_raw_data\\sharpicManU\\Glucose Data\\UoMGlucose2301.csv │\n",
       "│ 05/11/2023 01:19 │    4.6 │ d:\\RobbieDocuments\\Data\\_raw_data\\sharpicManU\\Glucose Data\\UoMGlucose2301.csv │\n",
       "│ 05/11/2023 01:24 │    4.9 │ d:\\RobbieDocuments\\Data\\_raw_data\\sharpicManU\\Glucose Data\\UoMGlucose2301.csv │\n",
       "│ 05/11/2023 01:29 │    5.1 │ d:\\RobbieDocuments\\Data\\_raw_data\\sharpicManU\\Glucose Data\\UoMGlucose2301.csv │\n",
       "│ 05/11/2023 01:34 │    5.2 │ d:\\RobbieDocuments\\Data\\_raw_data\\sharpicManU\\Glucose Data\\UoMGlucose2301.csv │\n",
       "│ 05/11/2023 01:39 │    5.5 │ d:\\RobbieDocuments\\Data\\_raw_data\\sharpicManU\\Glucose Data\\UoMGlucose2301.csv │\n",
       "│ 05/11/2023 01:44 │    5.7 │ d:\\RobbieDocuments\\Data\\_raw_data\\sharpicManU\\Glucose Data\\UoMGlucose2301.csv │\n",
       "│ 05/11/2023 01:49 │    6.0 │ d:\\RobbieDocuments\\Data\\_raw_data\\sharpicManU\\Glucose Data\\UoMGlucose2301.csv │\n",
       "│ 05/11/2023 01:54 │    6.3 │ d:\\RobbieDocuments\\Data\\_raw_data\\sharpicManU\\Glucose Data\\UoMGlucose2301.csv │\n",
       "├──────────────────┴────────┴───────────────────────────────────────────────────────────────────────────────┤\n",
       "│ ? rows (>9999 rows, 20 shown)                                                                   3 columns │\n",
       "└───────────────────────────────────────────────────────────────────────────────────────────────────────────┘"
      ]
     },
     "execution_count": 11,
     "metadata": {},
     "output_type": "execute_result"
    }
   ],
   "source": [
    "df_view"
   ]
  },
  {
   "cell_type": "markdown",
   "id": "48e03309",
   "metadata": {},
   "source": [
    "## Export to parquet"
   ]
  },
  {
   "cell_type": "code",
   "execution_count": 14,
   "id": "330a254e",
   "metadata": {},
   "outputs": [],
   "source": [
    "# Use DuckDB's COPY command for efficient Parquet export\n",
    "parquet_path = str(root_dir / 'GlucoseData.parquet')\n",
    "duckdb.sql(f\"\"\"\n",
    "    COPY glucose_data TO '{parquet_path}'\n",
    "    (FORMAT PARQUET, COMPRESSION 'SNAPPY', PARTITION_BY (filename), OVERWRITE_OR_IGNORE TRUE)\n",
    "\"\"\")"
   ]
  },
  {
   "cell_type": "code",
   "execution_count": null,
   "id": "3b883a37",
   "metadata": {},
   "outputs": [],
   "source": []
  }
 ],
 "metadata": {
  "kernelspec": {
   "display_name": "data",
   "language": "python",
   "name": "python3"
  },
  "language_info": {
   "codemirror_mode": {
    "name": "ipython",
    "version": 3
   },
   "file_extension": ".py",
   "mimetype": "text/x-python",
   "name": "python",
   "nbconvert_exporter": "python",
   "pygments_lexer": "ipython3",
   "version": "3.13.5"
  }
 },
 "nbformat": 4,
 "nbformat_minor": 5
}
